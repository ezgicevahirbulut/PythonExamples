{
  "nbformat": 4,
  "nbformat_minor": 0,
  "metadata": {
    "colab": {
      "name": "PythonBasicQuestions.ipynb",
      "provenance": [],
      "collapsed_sections": [],
      "authorship_tag": "ABX9TyORhGJ/XRvKonmSPGY5S2x8",
      "include_colab_link": true
    },
    "kernelspec": {
      "name": "python3",
      "display_name": "Python 3"
    }
  },
  "cells": [
    {
      "cell_type": "markdown",
      "metadata": {
        "id": "view-in-github",
        "colab_type": "text"
      },
      "source": [
        "<a href=\"https://colab.research.google.com/github/ezgicevahirbulut/hello-world-trial/blob/master/PythonBasicQuestions.ipynb\" target=\"_parent\"><img src=\"https://colab.research.google.com/assets/colab-badge.svg\" alt=\"Open In Colab\"/></a>"
      ]
    },
    {
      "cell_type": "markdown",
      "metadata": {
        "id": "uvOEoszdoS5U"
      },
      "source": [
        "## Question:\n",
        "\n",
        "Create a program will compute the tax and the tip for a meal ordered at a restaurant. You can compute the tax as 8 percent of the meal amount and the tip as 10 percent of the meal amount (without the tax). The output from your program should include the tax amount, the tip amount, and the grand total for the meal including both the tax and the tip.\n",
        "\n",
        "\n",
        "a)Define the cost of the meal in the beginning of your program.\n",
        "\n",
        "Some several example program runs:\n",
        "\n",
        "Cost of the meal is 25 Eur. \n",
        "\n",
        "Sample Run: The tax is 2.00 Eur and the tip is 2.50 Eur, making the total 29.50 Eur.\n",
        "\n",
        "Cost of the meal is 68 Eur.\n",
        "\n",
        "Sample Run: The tax is 5.44 Eur and the tip is 6.80000000000001 Eur, making the total 80.24 Eur.\n",
        "\n",
        "b)Input the cost of the meal from the user.\n",
        "\n",
        "Some several example program runs:\n",
        "\n",
        "Please enter the cost of your meal: 100 \n",
        "\n",
        "Sample Run: The tax is 8.00 Eur and the tip is 10.00 Eur, making the total 118.00 Eur.\n",
        "\n",
        "Please enter the cost of your meal: 68\n",
        "\n",
        "Sample Run: The tax is 5.44 Eur and the tip is 6.80 Eur, making the total 80.24 Eur."
      ]
    },
    {
      "cell_type": "code",
      "metadata": {
        "id": "iwRhXN8DlnFB",
        "outputId": "740b5821-5cd3-4b9b-8c4d-532789b115ab",
        "colab": {
          "base_uri": "https://localhost:8080/"
        }
      },
      "source": [
        "#define the cost of the meal in the beggining of your program\n",
        " \n",
        "c=79\n",
        "t=c*0.08\n",
        "tip=c*0.1\n",
        "ttl=c+t+tip\n",
        "\n",
        "print(f\"the tax {t} Eur and the tip is {t} Eur, making {ttl} Eur.\")\n",
        "print(f\"the tax {t} Eur and the tip is {t} Eur, making {ttl} Eur.\")"
      ],
      "execution_count": null,
      "outputs": [
        {
          "output_type": "stream",
          "text": [
            "the tax 6.32 Eur and the tip is 6.32 Eur, making 93.22 Eur.\n"
          ],
          "name": "stdout"
        }
      ]
    },
    {
      "cell_type": "markdown",
      "metadata": {
        "id": "gDwccPO2_c0R"
      },
      "source": [
        "# Question\n",
        "\n",
        "At a particular company, employees’ salaries are raised progressively, calculated using the following formula:\n",
        "\n",
        "salary = salary + salary x (raise percentage) \n",
        "\n",
        "Raises are predefined as given below, according to the current salary of the worker. For instance, if the worker’s current salary is less than or equal to 1000 TL, then its salary is increased 15%.\n",
        "\n",
        "\n",
        "Range | Percentage\n",
        "--- | ---\n",
        "0 < salary ≤ 1000 | 15%\n",
        "1000 < salary ≤ 2000 |10%\n",
        "2000 < salary ≤ 3000| 5%\n",
        "3000 < salary | 2.5%\n",
        "\n",
        "\n",
        "Write a program that asks the user to enter his/her salary. Then your program should calculate and print the raised salary of the user.\n",
        "\n",
        "Some example program runs:\n",
        "\n",
        "Please enter your salary: 1000\n",
        "\n",
        "Your raised salary is 1150.0.\n",
        "\n",
        "Please enter your salary: 2500\n",
        "\n",
        "Your raised salary is 2625.0."
      ]
    },
    {
      "cell_type": "code",
      "metadata": {
        "id": "zKsS1erZomEd",
        "outputId": "0d35e83a-de1b-4146-82fb-81e6a4295e91",
        "colab": {
          "base_uri": "https://localhost:8080/"
        }
      },
      "source": [
        "slry=float(input(\"please enter your salary: \"))\n",
        "\n",
        "if slry<0:\n",
        "  print(\"invalid value\")\n",
        "else:\n",
        "\n",
        "  if 0<slry<=1000:\n",
        "    slry=slry+slry*0.15\n",
        "  elif slry<=2000:\n",
        "    slry=slry+slry*0.1\n",
        "  elif slry<=3000:\n",
        "    slry=slry+slry*0.05\n",
        "  else:\n",
        "    slry=slry+slry*0.025\n",
        "  print(\"your raised salary is: \",slry)"
      ],
      "execution_count": null,
      "outputs": [
        {
          "output_type": "stream",
          "text": [
            "please enter your salary: -57\n",
            "invalid value\n"
          ],
          "name": "stdout"
        }
      ]
    },
    {
      "cell_type": "markdown",
      "metadata": {
        "id": "KDoimRfIHeKc"
      },
      "source": [
        "##Question-1\n",
        "\n",
        "Write a program that inputs an integer value (stop_number) from the user and prints the sum of all numbers from 0 to stop_number. You can assume the user will enter a valid value."
      ]
    },
    {
      "cell_type": "code",
      "metadata": {
        "id": "P6tZOINBrwVc",
        "outputId": "1effaa59-d206-4442-bca5-eb7973179031",
        "colab": {
          "base_uri": "https://localhost:8080/"
        }
      },
      "source": [
        "stpN=int(input(\"please enter stop number:\"))\n",
        "\n",
        "res=0\n",
        "for i in range(0,stpN):\n",
        "  res=res+i\n",
        "  print(res)\n",
        "print(res)"
      ],
      "execution_count": null,
      "outputs": [
        {
          "output_type": "stream",
          "text": [
            "please enter stop number:25\n",
            "0\n",
            "1\n",
            "3\n",
            "6\n",
            "10\n",
            "15\n",
            "21\n",
            "28\n",
            "36\n",
            "45\n",
            "55\n",
            "66\n",
            "78\n",
            "91\n",
            "105\n",
            "120\n",
            "136\n",
            "153\n",
            "171\n",
            "190\n",
            "210\n",
            "231\n",
            "253\n",
            "276\n",
            "300\n",
            "300\n"
          ],
          "name": "stdout"
        }
      ]
    },
    {
      "cell_type": "markdown",
      "metadata": {
        "id": "n3r7-MzJIQaF"
      },
      "source": [
        "##Question-2\n",
        "\n",
        "Extend your program to also input the start_number from the user. In this case, your program will add all numbers from start_number to stop_number. You can assume that the user will enter two valid values."
      ]
    },
    {
      "cell_type": "code",
      "metadata": {
        "id": "AoaObnACr3-1",
        "outputId": "9c2032c3-05f8-4b06-a2b6-76b810872886",
        "colab": {
          "base_uri": "https://localhost:8080/"
        }
      },
      "source": [
        "stpN=int(input(\"please enter a stop number:\"))\n",
        "strN=int(input(\"please enter a start number:\"))\n",
        "\n",
        "res=0\n",
        "for i in range(strN,stpN):\n",
        "  res+=i\n",
        "print(res)"
      ],
      "execution_count": null,
      "outputs": [
        {
          "output_type": "stream",
          "text": [
            "please enter a stop number:22\n",
            "please enter a start number:0\n",
            "231\n"
          ],
          "name": "stdout"
        }
      ]
    },
    {
      "cell_type": "markdown",
      "metadata": {
        "id": "5iu8rZn5JLEh"
      },
      "source": [
        "##Question-3\n",
        "\n",
        "Extend your program to check if the start_number is an integer between 0 and 100. If so, your program will continue to ask for the second input and perform calculations; otherwise, it prints an error and stops execution."
      ]
    },
    {
      "cell_type": "code",
      "metadata": {
        "id": "BykGkT4sr7lk",
        "outputId": "f8eb2b5f-5338-41a9-8502-bdea8c827df1",
        "colab": {
          "base_uri": "https://localhost:8080/"
        }
      },
      "source": [
        "strN=int(input(\"please enter a start number:\"))\n",
        "\n",
        "if 0<=strN<=100:\n",
        "  stpN=int(input(\"please enter a stop number:\"))\n",
        "\n",
        "  if strN<=stpN<=100:\n",
        "    res=0\n",
        "    for i in range(strN,stpN):\n",
        "      res+=i\n",
        "      print(res)\n",
        "    else:\n",
        "      print(\"invalid stop number\")\n",
        "else:\n",
        "  print(\"invalid start number\")\n",
        "\n"
      ],
      "execution_count": null,
      "outputs": [
        {
          "output_type": "stream",
          "text": [
            "please enter a start number:85\n",
            "please enter a stop number:90\n",
            "85\n",
            "171\n",
            "258\n",
            "346\n",
            "435\n",
            "invalid stop number\n"
          ],
          "name": "stdout"
        }
      ]
    },
    {
      "cell_type": "markdown",
      "metadata": {
        "id": "s5um18-_PXNt"
      },
      "source": [
        "**Conert KM to Miles**\n",
        "\n",
        "learn to convert kilometers to miles and display it"
      ]
    },
    {
      "cell_type": "code",
      "metadata": {
        "id": "4YwUHmz1ujro",
        "outputId": "49735fc4-de2c-40b8-bfc0-07d3c7e6b3d1",
        "colab": {
          "base_uri": "https://localhost:8080/"
        }
      },
      "source": [
        "km=float(input(\"enter value in kms: \"))\n",
        "\n",
        "#conversion factor\n",
        "conv_fac=0.621371\n",
        "\n",
        "miles=km*conv_fac\n",
        "print(\"%0.2f kms is equal to %0.2f miles\" %(km,miles))"
      ],
      "execution_count": 1,
      "outputs": [
        {
          "output_type": "stream",
          "text": [
            "enter value in kms: 100\n",
            "100.00 kms is equal to 62.14 miles\n"
          ],
          "name": "stdout"
        }
      ]
    },
    {
      "cell_type": "markdown",
      "metadata": {
        "id": "7_7KAMPfQW1p"
      },
      "source": [
        "**Check Leap Year**"
      ]
    },
    {
      "cell_type": "code",
      "metadata": {
        "id": "AjswcIJRQJvY",
        "outputId": "9a85fc5d-0c43-4778-e697-94b9130bbc92",
        "colab": {
          "base_uri": "https://localhost:8080/"
        }
      },
      "source": [
        "year=int(input(\"enter a year: \"))\n",
        "\n",
        "if year % 4==0:\n",
        "  if year %100==0:\n",
        "    if year %400==0:\n",
        "      print(\"{0} is a leap year\".format(year))\n",
        "    else:\n",
        "      print(\"{0} is not a leap year\".format(year))\n",
        "  else:\n",
        "    print(\"{0} is not a leap year\".format(year))\n",
        "else:\n",
        "  print(\"{0} is not a leap year\".format(year))\n"
      ],
      "execution_count": 5,
      "outputs": [
        {
          "output_type": "stream",
          "text": [
            "enter a year: 4\n",
            "4 is not a leap year\n"
          ],
          "name": "stdout"
        }
      ]
    },
    {
      "cell_type": "markdown",
      "metadata": {
        "id": "oMXkIVVmSGxE"
      },
      "source": [
        "**Print the Fibonacci sequence**"
      ]
    },
    {
      "cell_type": "code",
      "metadata": {
        "id": "J9xK-m2pQ_vF",
        "outputId": "aebe607f-e47d-4c12-8215-4930a7fd848c",
        "colab": {
          "base_uri": "https://localhost:8080/"
        }
      },
      "source": [
        "nter=int(input(\"how many terms? \"))\n",
        "\n",
        "x1, x2=0, 1\n",
        "c=0\n",
        "\n",
        "if nter <= 0:\n",
        "  print(\"please enter a positive integer\")\n",
        "elif nter == 1:\n",
        "  print(\"Fibonacci sequence upto\",nter,\":\")\n",
        "  print(x1)\n",
        "else:\n",
        "  print(\"Fibonacci sequence:\")\n",
        "  while c < nter:\n",
        "    print(x1)\n",
        "    n=x1+x2\n",
        "    x1=x2\n",
        "    x2=n\n",
        "    c+=1"
      ],
      "execution_count": 10,
      "outputs": [
        {
          "output_type": "stream",
          "text": [
            "how many terms? 7\n",
            "Fibonacci sequence:\n",
            "0\n",
            "1\n",
            "1\n",
            "2\n",
            "3\n",
            "5\n",
            "8\n"
          ],
          "name": "stdout"
        }
      ]
    },
    {
      "cell_type": "markdown",
      "metadata": {
        "id": "QvbMo9s5UVW4"
      },
      "source": [
        "**Find Armstrong Number in an Interval**"
      ]
    },
    {
      "cell_type": "code",
      "metadata": {
        "id": "rnqh4QbpUabd",
        "outputId": "24e17c39-4dc6-4429-b2d2-dca606a9f8c4",
        "colab": {
          "base_uri": "https://localhost:8080/"
        }
      },
      "source": [
        "l=100\n",
        "u=2000\n",
        "\n",
        "\n",
        "for num in range(l,u+1):\n",
        "  order=len(str(num))\n",
        "\n",
        "  sum=0\n",
        "  temp=num\n",
        "  while temp>0:\n",
        "    digit=temp%10\n",
        "    sum+=digit**order\n",
        "    temp//=10\n",
        "\n",
        "  if num==sum:\n",
        "    print(num)"
      ],
      "execution_count": 11,
      "outputs": [
        {
          "output_type": "stream",
          "text": [
            "153\n",
            "370\n",
            "371\n",
            "407\n",
            "1634\n"
          ],
          "name": "stdout"
        }
      ]
    }
  ]
}